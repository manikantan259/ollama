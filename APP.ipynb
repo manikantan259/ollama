{
 "cells": [
  {
   "cell_type": "code",
   "execution_count": 10,
   "metadata": {},
   "outputs": [
    {
     "name": "stdout",
     "output_type": "stream",
     "text": [
      "FAISS index created with test data!\n",
      "Generated Answer:\n",
      "Sure, here's the answer to the question:\n",
      "\n",
      "The latest trends in the tea industry are:\n",
      "\n",
      "- Matcha, chamomile, and oolong are the best-selling tea flavors.\n",
      "\n",
      "- Subscription-based tea services are on the rise due to personalized recommendations.\n",
      "\n",
      "- AI-driven ad campaigns help tea brands target health-conscious consumers.\n",
      "\n",
      "- AI-powered customer service is revolutionizing how tea businesses handle inquiries.\n"
     ]
    }
   ],
   "source": [
    "from langchain_community.vectorstores import FAISS\n",
    "from langchain_community.embeddings import OllamaEmbeddings\n",
    "from langchain.docstore.document import Document\n",
    "\n",
    "# Use Gemma:2B as the Ollama embedding model\n",
    "embeddings = OllamaEmbeddings(model=\"gemma:2b\")\n",
    "\n",
    "# ✅ Updated Sample Data (Tea Business + AI & Consumer Behavior)\n",
    "sample_data = [\n",
    "    \"Tea culture is growing rapidly as consumers seek healthier alternatives to coffee.\",\n",
    "    \"AI-powered customer service is revolutionizing how tea businesses handle inquiries.\",\n",
    "    \"The best-selling tea flavors in 2025 are matcha, chamomile, and oolong.\",\n",
    "    \"Consumer psychology suggests that branding and packaging influence tea purchasing decisions.\",\n",
    "    \"Subscription-based tea services are on the rise due to personalized recommendations.\",\n",
    "    \"AI-driven ad campaigns help tea brands target health-conscious consumers.\",\n",
    "    \"Premium loose-leaf teas are gaining popularity over traditional tea bags.\",\n",
    "    \"Social media marketing plays a key role in promoting specialty tea brands.\",\n",
    "]\n",
    "\n",
    "# Convert sample data into LangChain Document format\n",
    "docs = [Document(page_content=text) for text in sample_data]\n",
    "\n",
    "# Create FAISS vector store with sample data\n",
    "vectorstoreDB = FAISS.from_documents(docs, embeddings)\n",
    "\n",
    "print(\"FAISS index created with test data!\")\n",
    "\n",
    "from langchain.chains.combine_documents import create_stuff_documents_chain\n",
    "from langchain_core.prompts import ChatPromptTemplate\n",
    "from langchain.chat_models import ChatOllama\n",
    "from langchain.schema.runnable import RunnableMap\n",
    "\n",
    "# ✅ Initialize Ollama LLM (Using Gemma:2B)\n",
    "llm = ChatOllama(model=\"gemma:2b\")\n",
    "\n",
    "# ✅ Define the Retrieval-Augmented Generation (RAG) Prompt\n",
    "prompt = ChatPromptTemplate.from_template(\n",
    "    \"\"\"\n",
    "    Answer the following question based only on the provided context:\n",
    "    <context>\n",
    "        {context}\n",
    "    </context>\n",
    "\n",
    "    Question: {question}\n",
    "    Answer:\n",
    "    \"\"\"\n",
    ")\n",
    "\n",
    "# ✅ Create Document Chain (Combining Retrieved Docs into Final Response)\n",
    "document_chain = create_stuff_documents_chain(llm, prompt)\n",
    "\n",
    "# ✅ Create Retriever from FAISS\n",
    "retriever = vectorstoreDB.as_retriever()\n",
    "\n",
    "# ✅ Build the RAG Pipeline\n",
    "retrieval_chain = RunnableMap({\n",
    "    \"context\": retriever,   # Fetch relevant documents\n",
    "    \"question\": lambda x: x[\"query\"],  # Extract question\n",
    "}) | document_chain  # Pass results to document chain\n",
    "\n",
    "# ✅ Example Query\n",
    "question = \"What are the latest trends in the tea industry?\"\n",
    "response = retrieval_chain.invoke({\"query\": question})  # Use `.invoke()`\n",
    "\n",
    "# ✅ Print the AI-Generated Response\n",
    "print(\"Generated Answer:\")\n",
    "print(response)\n"
   ]
  },
  {
   "cell_type": "code",
   "execution_count": null,
   "metadata": {},
   "outputs": [],
   "source": []
  }
 ],
 "metadata": {
  "kernelspec": {
   "display_name": "base",
   "language": "python",
   "name": "python3"
  },
  "language_info": {
   "codemirror_mode": {
    "name": "ipython",
    "version": 3
   },
   "file_extension": ".py",
   "mimetype": "text/x-python",
   "name": "python",
   "nbconvert_exporter": "python",
   "pygments_lexer": "ipython3",
   "version": "3.12.7"
  }
 },
 "nbformat": 4,
 "nbformat_minor": 2
}
